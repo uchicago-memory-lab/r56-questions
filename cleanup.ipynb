{
 "metadata": {
  "language_info": {
   "codemirror_mode": {
    "name": "ipython",
    "version": 3
   },
   "file_extension": ".py",
   "mimetype": "text/x-python",
   "name": "python",
   "nbconvert_exporter": "python",
   "pygments_lexer": "ipython3",
   "version": "3.8.2-final"
  },
  "orig_nbformat": 2,
  "kernelspec": {
   "name": "python38264bit82394db0b8df444ba9f6180349a8e939",
   "display_name": "Python 3.8.2 64-bit"
  }
 },
 "nbformat": 4,
 "nbformat_minor": 2,
 "cells": [
  {
   "cell_type": "code",
   "execution_count": 1,
   "metadata": {},
   "outputs": [],
   "source": [
    "import json\n",
    "import numpy\n",
    "import pandas"
   ]
  },
  {
   "cell_type": "code",
   "execution_count": 3,
   "metadata": {},
   "outputs": [],
   "source": [
    "with open('./questions/json/qblock.json', 'r') as f:\n",
    "    qblock = json.load(f)"
   ]
  },
  {
   "cell_type": "code",
   "execution_count": 11,
   "metadata": {},
   "outputs": [],
   "source": [
    "ops = {'easy':[], 'medium':[], 'hard':[]}\n",
    "for k in qblock:\n",
    "    if qblock[k]['kind'] == 'EMObjectPicture':\n",
    "        for trial in qblock[k]['trials']:\n",
    "            if qblock[k]['difficulty']:\n",
    "                ops[qblock[k]['difficulty']] += [f'./img/{pic}.jpg' for pic in trial]"
   ]
  },
  {
   "cell_type": "code",
   "execution_count": 15,
   "metadata": {},
   "outputs": [],
   "source": [
    "with open('./src/preload.json', 'w+') as f:\n",
    "    json.dump(ops, f)"
   ]
  },
  {
   "cell_type": "code",
   "execution_count": null,
   "metadata": {},
   "outputs": [],
   "source": []
  }
 ]
}